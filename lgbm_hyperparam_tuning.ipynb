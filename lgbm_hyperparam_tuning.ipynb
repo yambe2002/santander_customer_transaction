{
 "cells": [
  {
   "cell_type": "code",
   "execution_count": 6,
   "metadata": {},
   "outputs": [],
   "source": [
    "import time\n",
    "import numpy as np\n",
    "import pandas as pd\n",
    "import lightgbm as lgb\n",
    "from functools import partial\n",
    "import optuna\n",
    "from sklearn.model_selection import KFold,StratifiedKFold\n",
    "from sklearn.model_selection import cross_validate\n",
    "from sklearn.model_selection import GridSearchCV\n",
    "from sklearn.discriminant_analysis import LinearDiscriminantAnalysis as LDA\n",
    "\n",
    "use_stack = False\n",
    "new_study = True\n",
    "do_lda = False\n",
    "fix_data_skew = False"
   ]
  },
  {
   "cell_type": "code",
   "execution_count": 7,
   "metadata": {},
   "outputs": [],
   "source": [
    "train_df = pd.read_csv('input/train' + ('_stack' if use_stack else '') + '.csv')\n",
    "test_df = pd.read_csv('input/test'  + ('_stack' if use_stack else '') + '.csv')\n",
    "\n",
    "if fix_data_skew:\n",
    "    trues = train_df.loc[train_df['target'] == 1]\n",
    "    falses = train_df.loc[train_df['target'] != 1].sample(frac=1)[:len(trues)]\n",
    "    train_df = pd.concat([trues, falses], ignore_index=True).sample(frac=1)\n",
    "else:\n",
    "    train_df = train_df\n",
    "    \n",
    "train_df.head()\n",
    "\n",
    "X_test = test_df.drop('ID_code',axis=1)\n",
    "X = train_df.drop(['ID_code','target'],axis=1)\n",
    "y = train_df['target']"
   ]
  },
  {
   "cell_type": "code",
   "execution_count": 8,
   "metadata": {},
   "outputs": [],
   "source": [
    "if do_lda:    \n",
    "    lda = LDA(solver='svd', n_components=5, store_covariance=True)\n",
    "    X_lda = pd.DataFrame(lda.fit_transform(X, y))\n",
    "    X_test_lda = pd.DataFrame(lda.transform(X_test))\n",
    "    X[\"lda\"] = X_lda\n",
    "    X_test[\"lda\"] = X_test_lda"
   ]
  },
  {
   "cell_type": "code",
   "execution_count": 9,
   "metadata": {},
   "outputs": [],
   "source": [
    "n_splits = 5\n",
    "folds = StratifiedKFold(n_splits=n_splits, shuffle=True, random_state=42)\n",
    "\n",
    "def objective(X, y, trial):\n",
    "    score = 0.0\n",
    "\n",
    "    # based on kernel params\n",
    "    params = {\n",
    "        \"objective\" : \"binary\",\n",
    "        \"metric\" : \"auc\",\n",
    "        \"boosting\": 'gbdt',\n",
    "        \"max_depth\" : -1,\n",
    "        \"num_leaves\" : trial.suggest_int('num_leaves', 11, 15), #13\n",
    "        \"learning_rate\" : 0.01,\n",
    "        \"bagging_freq\": trial.suggest_int('bagging_freq', 3, 7), #5\n",
    "        \"bagging_fraction\" : trial.suggest_uniform('bagging_fraction', 0.3, 0.5), #0.4\n",
    "        \"feature_fraction\" : trial.suggest_uniform('feature_fraction', 0.04, 0.06), #0.05\n",
    "        \"min_data_in_leaf\": trial.suggest_int('min_data_in_leaf', 75, 85), #80\n",
    "        \"min_sum_heassian_in_leaf\": trial.suggest_int('min_sum_heassian_in_leaf', 8, 12), #10\n",
    "        \"tree_learner\": \"serial\",\n",
    "        \"boost_from_average\": \"false\",\n",
    "        #\"lambda_l1\" : 5,\n",
    "        #\"lambda_l2\" : 5,\n",
    "        \"bagging_seed\" : 13,\n",
    "        \"verbosity\" : 1,\n",
    "        \"seed\": 42\n",
    "    }\n",
    "\n",
    "    for fold_n, (train_index, valid_index) in enumerate(folds.split(X,y)):\n",
    "        print('Fold', fold_n, 'started at', time.ctime())\n",
    "        X_train, X_valid = X.iloc[train_index], X.iloc[valid_index]\n",
    "        y_train, y_valid = y.iloc[train_index], y.iloc[valid_index]\n",
    "        \n",
    "        train_data = lgb.Dataset(X_train, label=y_train)\n",
    "        valid_data = lgb.Dataset(X_valid, label=y_valid)\n",
    "            \n",
    "        model = lgb.train(params,train_data,num_boost_round=20000,\n",
    "                        valid_sets = [train_data, valid_data],verbose_eval=300,early_stopping_rounds=100)\n",
    "        score += model.best_score['valid_1']['auc'] / n_splits\n",
    "    print(score)\n",
    "    return 1.0 - score"
   ]
  },
  {
   "cell_type": "code",
   "execution_count": null,
   "metadata": {},
   "outputs": [
    {
     "name": "stderr",
     "output_type": "stream",
     "text": [
      "[I 2019-03-29 08:58:24,217] A new study created with name: lgbm_kfold_study\n"
     ]
    },
    {
     "name": "stdout",
     "output_type": "stream",
     "text": [
      "Fold 0 started at Fri Mar 29 08:58:24 2019\n",
      "Training until validation scores don't improve for 100 rounds.\n",
      "[300]\ttraining's auc: 0.883779\tvalid_1's auc: 0.866422\n",
      "[600]\ttraining's auc: 0.896171\tvalid_1's auc: 0.878117\n",
      "[900]\ttraining's auc: 0.902332\tvalid_1's auc: 0.884015\n",
      "[1200]\ttraining's auc: 0.906038\tvalid_1's auc: 0.886536\n",
      "[1500]\ttraining's auc: 0.908767\tvalid_1's auc: 0.888683\n",
      "[1800]\ttraining's auc: 0.911187\tvalid_1's auc: 0.890317\n",
      "[2100]\ttraining's auc: 0.913356\tvalid_1's auc: 0.89163\n",
      "[2400]\ttraining's auc: 0.91575\tvalid_1's auc: 0.893049\n",
      "[2700]\ttraining's auc: 0.917734\tvalid_1's auc: 0.894053\n",
      "[3000]\ttraining's auc: 0.919597\tvalid_1's auc: 0.894824\n",
      "[3300]\ttraining's auc: 0.921395\tvalid_1's auc: 0.895586\n",
      "[3600]\ttraining's auc: 0.92306\tvalid_1's auc: 0.896248\n",
      "[3900]\ttraining's auc: 0.924554\tvalid_1's auc: 0.896733\n",
      "[4200]\ttraining's auc: 0.926101\tvalid_1's auc: 0.897261\n",
      "[4500]\ttraining's auc: 0.927549\tvalid_1's auc: 0.897723\n",
      "[4800]\ttraining's auc: 0.92901\tvalid_1's auc: 0.898041\n",
      "[5100]\ttraining's auc: 0.93033\tvalid_1's auc: 0.898347\n"
     ]
    }
   ],
   "source": [
    "def main():\n",
    "    f = partial(objective, X, y)\n",
    "    if new_study:\n",
    "        study = optuna.create_study(study_name='lgbm_kfold_study', storage='sqlite:///storage.db')\n",
    "    else:\n",
    "        study = optuna.Study(study_name='lgbm_kfold_study', storage='sqlite:///storage.db')\n",
    "    study.optimize(f, n_trials=3000)\n",
    "    print('params:', study.best_params)\n",
    "\n",
    "if __name__ == '__main__':\n",
    "    main()"
   ]
  }
 ],
 "metadata": {
  "kernelspec": {
   "display_name": "Python 3",
   "language": "python",
   "name": "python3"
  },
  "language_info": {
   "codemirror_mode": {
    "name": "ipython",
    "version": 3
   },
   "file_extension": ".py",
   "mimetype": "text/x-python",
   "name": "python",
   "nbconvert_exporter": "python",
   "pygments_lexer": "ipython3",
   "version": "3.7.1"
  }
 },
 "nbformat": 4,
 "nbformat_minor": 2
}
