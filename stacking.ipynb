{
 "cells": [
  {
   "cell_type": "code",
   "execution_count": null,
   "metadata": {},
   "outputs": [],
   "source": [
    "import pandas as pd\n",
    "import numpy as np\n",
    "from sklearn.model_selection import train_test_split\n",
    "from sklearn.model_selection import cross_val_score\n",
    "from sklearn.linear_model import SGDClassifier\n",
    "from sklearn.svm import SVC\n",
    "from sklearn.metrics import roc_auc_score\n",
    "from sklearn.decomposition import PCA\n",
    "from sklearn.pipeline import Pipeline\n",
    "from sklearn.model_selection import GridSearchCV\n",
    "from sklearn import preprocessing\n",
    "from sklearn.neural_network import MLPClassifier\n",
    "from sklearn.neighbors.nearest_centroid import NearestCentroid\n",
    "from sklearn.ensemble import AdaBoostClassifier, BaggingClassifier, ExtraTreesClassifier, GradientBoostingClassifier, RandomForestClassifier\n",
    "from sklearn.ensemble import VotingClassifier\n",
    "from sklearn.naive_bayes import BernoulliNB, GaussianNB\n",
    "from sklearn.discriminant_analysis import LinearDiscriminantAnalysis, QuadraticDiscriminantAnalysis\n",
    "from sklearn.model_selection import KFold,StratifiedKFold"
   ]
  },
  {
   "cell_type": "code",
   "execution_count": null,
   "metadata": {},
   "outputs": [],
   "source": [
    "train_df = pd.read_csv('input/train.csv')\n",
    "# df = pd.read_csv('input/train_min.csv')  # small data\n",
    "test_df = pd.read_csv('input/test.csv')"
   ]
  },
  {
   "cell_type": "code",
   "execution_count": null,
   "metadata": {},
   "outputs": [],
   "source": [
    "X_test = test_df.drop('ID_code',axis=1)\n",
    "X = train_df.drop(['ID_code','target'],axis=1)\n",
    "y = train_df['target']"
   ]
  },
  {
   "cell_type": "code",
   "execution_count": null,
   "metadata": {},
   "outputs": [],
   "source": [
    "X_test.head()"
   ]
  },
  {
   "cell_type": "code",
   "execution_count": null,
   "metadata": {},
   "outputs": [],
   "source": [
    "X.head()"
   ]
  },
  {
   "cell_type": "code",
   "execution_count": null,
   "metadata": {},
   "outputs": [],
   "source": [
    "pred_cv = np.zeros(len(X))\n",
    "pred = np.zeros(len(X_test))"
   ]
  },
  {
   "cell_type": "code",
   "execution_count": null,
   "metadata": {},
   "outputs": [],
   "source": [
    "pred_cv"
   ]
  },
  {
   "cell_type": "code",
   "execution_count": null,
   "metadata": {},
   "outputs": [],
   "source": [
    "pred"
   ]
  },
  {
   "cell_type": "code",
   "execution_count": null,
   "metadata": {},
   "outputs": [],
   "source": [
    "# stacking\n",
    "\n",
    "models = [\n",
    "    ('lg', SGDClassifier(loss='log', max_iter=5000, tol=1e-7, alpha=0.3)),\n",
    "#    ('mlp', MLPClassifier(solver='lbfgs', alpha=0.001, hidden_layer_sizes=(5, 2), random_state=1)),\n",
    "#    ('rf', RandomForestClassifier(n_estimators=10, criterion='entropy')),\n",
    "#    ('gnb', GaussianNB()),\n",
    "#    ('qda', QuadraticDiscriminantAnalysis(tol=1e-12)),\n",
    "]\n",
    "\n",
    "cv_out = pd.DataFrame(index=data.iloc[:,0])\n",
    "test_out = pd.DataFrame(index=test_ids)\n",
    "\n",
    "# add target to cv_out\n",
    "cv_out['target'] = data.iloc[:,1].values\n",
    "\n",
    "for model in models:\n",
    "    name = model[0]\n",
    "    cls = model[1]\n",
    "    print('working on ' + name)\n",
    "    \n",
    "    # k-fold\n",
    "    n_splits = 5\n",
    "    folds = StratifiedKFold(n_splits=n_splits, shuffle=True, random_state=42)\n",
    "    \n",
    "    pred_cv = np.zeros(len(X))\n",
    "    pred = np.zeros(len(X_test))\n",
    "    \n",
    "    for fold_n, (train_index, valid_index) in enumerate(folds.split(X,y)):\n",
    "        x_train, X_valid = X.iloc[train_index], X.iloc[valid_index]\n",
    "        y_train, y_valid = y.iloc[train_index], y.iloc[valid_index]\n",
    "        \n",
    "        cls.fit(x_train, y_train)\n",
    "    \n",
    "        print(cls.predict_proba(X) / n_splits)\n",
    "        print(cls.predict_proba(X_test) / n_splits)\n",
    "    \n",
    "        prev_cv += cls.predict_proba(X) / n_splits\n",
    "        pred += cls.predict_proba(X_test) / n_splits\n",
    "    \n",
    "    print(prev_cv)\n",
    "        \n",
    "    cv_out[name] = pred_cv\n",
    "    test_out[name] = pred"
   ]
  },
  {
   "cell_type": "code",
   "execution_count": null,
   "metadata": {},
   "outputs": [],
   "source": [
    "%debug"
   ]
  },
  {
   "cell_type": "code",
   "execution_count": null,
   "metadata": {},
   "outputs": [],
   "source": [
    "# add statistics\n",
    "num = len(models);\n",
    "\n",
    "cv_out['mean'] = cv_out.iloc[:,[1,num]].mean(axis=1)\n",
    "cv_out['min'] = cv_out.iloc[:,[1,num]].min(axis=1)\n",
    "cv_out['max'] = cv_out.iloc[:,[1,num]].max(axis=1)\n",
    "\n",
    "test_out['mean'] = test_out.iloc[:,[0,num-1]].mean(axis=1)\n",
    "test_out['min'] = test_out.iloc[:,[0,num-1]].min(axis=1)\n",
    "test_out['max'] = test_out.iloc[:,[0,num-1]].max(axis=1)"
   ]
  },
  {
   "cell_type": "code",
   "execution_count": null,
   "metadata": {},
   "outputs": [],
   "source": [
    "cv_out.head()"
   ]
  },
  {
   "cell_type": "code",
   "execution_count": null,
   "metadata": {},
   "outputs": [],
   "source": [
    "test_out.head()"
   ]
  },
  {
   "cell_type": "code",
   "execution_count": null,
   "metadata": {},
   "outputs": [],
   "source": [
    "cv_out.to_csv('input/train_stack.csv')"
   ]
  },
  {
   "cell_type": "code",
   "execution_count": null,
   "metadata": {},
   "outputs": [],
   "source": [
    "test_out.to_csv('input/test_stack.csv')"
   ]
  },
  {
   "cell_type": "code",
   "execution_count": null,
   "metadata": {},
   "outputs": [],
   "source": []
  }
 ],
 "metadata": {
  "kernelspec": {
   "display_name": "Python 3",
   "language": "python",
   "name": "python3"
  },
  "language_info": {
   "codemirror_mode": {
    "name": "ipython",
    "version": 3
   },
   "file_extension": ".py",
   "mimetype": "text/x-python",
   "name": "python",
   "nbconvert_exporter": "python",
   "pygments_lexer": "ipython3",
   "version": "3.7.1"
  }
 },
 "nbformat": 4,
 "nbformat_minor": 2
}
