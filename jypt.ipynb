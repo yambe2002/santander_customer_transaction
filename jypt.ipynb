{
 "cells": [
  {
   "cell_type": "code",
   "execution_count": 75,
   "metadata": {},
   "outputs": [],
   "source": [
    "import pandas as pd\n",
    "import numpy as np\n",
    "from sklearn.model_selection import train_test_split\n",
    "from sklearn.model_selection import cross_val_score\n",
    "from sklearn.linear_model import SGDClassifier\n",
    "from sklearn.svm import SVC\n",
    "from sklearn.metrics import roc_auc_score\n",
    "from sklearn.decomposition import PCA\n",
    "from sklearn.pipeline import Pipeline\n",
    "from sklearn.model_selection import GridSearchCV\n",
    "from sklearn import preprocessing\n",
    "from sklearn.neural_network import MLPClassifier"
   ]
  },
  {
   "cell_type": "code",
   "execution_count": 65,
   "metadata": {},
   "outputs": [],
   "source": [
    "data = pd.read_csv('input/train.csv')\n",
    "# data = pd.read_csv('input/train_min.csv')  # small data\n",
    "\n",
    "X, y = data.iloc[:,2:].values, data.iloc[:,1].values\n",
    "\n",
    "# std scaling\n",
    "scaler = preprocessing.StandardScaler().fit(X)\n",
    "X_scaled = scaler.transform(X)"
   ]
  },
  {
   "cell_type": "code",
   "execution_count": 82,
   "metadata": {},
   "outputs": [
    {
     "name": "stdout",
     "output_type": "stream",
     "text": [
      "[0.85100361 0.85245629 0.85354592 0.85711782 0.85770566]\n",
      "0.8543658603036868\n"
     ]
    }
   ],
   "source": [
    "#cv: 0.8597059678850029\n",
    "# logistic = SGDClassifier(loss='log', max_iter=5000, tol=1e-7, alpha=0.3)\n",
    "\n",
    "#cv: 0.8543658603036868\n",
    "nn = MLPClassifier(solver='lbfgs', alpha=0.001,\n",
    "                    hidden_layer_sizes=(5, 2), random_state=1)\n",
    "\n",
    "cls = nn\n",
    "\n",
    "# try grid-search\n",
    "#params = { 'alpha': [ 0.03, 0.1,0.3,1,3 ]  }\n",
    "#cls = GridSearchCV(estimator=logistic, param_grid=params, cv=5, scoring='roc_auc')\n",
    "#cls.fit(X_scaled, y)\n",
    "#print(cls.best_params_)\n",
    "#print(cls.best_score_)\n",
    "\n",
    "# single\n",
    "cv_scores = cross_val_score(cls, X_scaled, y, cv=5, scoring='roc_auc')\n",
    "print(cv_scores)\n",
    "print(np.average(cv_scores))\n"
   ]
  },
  {
   "cell_type": "code",
   "execution_count": 69,
   "metadata": {},
   "outputs": [],
   "source": [
    "# create final output\n",
    "test = pd.read_csv('input/test.csv')\n",
    "test_ids, test_x = test.iloc[:,0], test.iloc[:,1:]\n",
    "\n",
    "test_x_scaled = scaler.transform(test_x)\n",
    "test_y = cls.predict_proba(test_x_scaled)"
   ]
  },
  {
   "cell_type": "code",
   "execution_count": 70,
   "metadata": {},
   "outputs": [
    {
     "data": {
      "text/html": [
       "<div>\n",
       "<style scoped>\n",
       "    .dataframe tbody tr th:only-of-type {\n",
       "        vertical-align: middle;\n",
       "    }\n",
       "\n",
       "    .dataframe tbody tr th {\n",
       "        vertical-align: top;\n",
       "    }\n",
       "\n",
       "    .dataframe thead th {\n",
       "        text-align: right;\n",
       "    }\n",
       "</style>\n",
       "<table border=\"1\" class=\"dataframe\">\n",
       "  <thead>\n",
       "    <tr style=\"text-align: right;\">\n",
       "      <th></th>\n",
       "      <th>ID_code</th>\n",
       "      <th>target</th>\n",
       "    </tr>\n",
       "  </thead>\n",
       "  <tbody>\n",
       "    <tr>\n",
       "      <th>0</th>\n",
       "      <td>test_0</td>\n",
       "      <td>0.186199</td>\n",
       "    </tr>\n",
       "    <tr>\n",
       "      <th>1</th>\n",
       "      <td>test_1</td>\n",
       "      <td>0.233491</td>\n",
       "    </tr>\n",
       "    <tr>\n",
       "      <th>2</th>\n",
       "      <td>test_2</td>\n",
       "      <td>0.057496</td>\n",
       "    </tr>\n",
       "    <tr>\n",
       "      <th>3</th>\n",
       "      <td>test_3</td>\n",
       "      <td>0.196701</td>\n",
       "    </tr>\n",
       "    <tr>\n",
       "      <th>4</th>\n",
       "      <td>test_4</td>\n",
       "      <td>0.073267</td>\n",
       "    </tr>\n",
       "  </tbody>\n",
       "</table>\n",
       "</div>"
      ],
      "text/plain": [
       "  ID_code    target\n",
       "0  test_0  0.186199\n",
       "1  test_1  0.233491\n",
       "2  test_2  0.057496\n",
       "3  test_3  0.196701\n",
       "4  test_4  0.073267"
      ]
     },
     "execution_count": 70,
     "metadata": {},
     "output_type": "execute_result"
    }
   ],
   "source": [
    "# output the result\n",
    "sub_ids = pd.DataFrame(test_ids)\n",
    "sub_y = pd.DataFrame(pd.DataFrame(test_y).iloc[:,1])\n",
    "\n",
    "sub = pd.DataFrame(np.hstack((sub_ids, sub_y)))\n",
    "sub.to_csv('output.csv', header=['ID_code', 'target'], index=False)\n",
    "\n",
    "output_check = pd.read_csv('output.csv')\n",
    "output_check.head()"
   ]
  },
  {
   "cell_type": "code",
   "execution_count": null,
   "metadata": {},
   "outputs": [],
   "source": []
  }
 ],
 "metadata": {
  "kernelspec": {
   "display_name": "Python 3",
   "language": "python",
   "name": "python3"
  },
  "language_info": {
   "codemirror_mode": {
    "name": "ipython",
    "version": 3
   },
   "file_extension": ".py",
   "mimetype": "text/x-python",
   "name": "python",
   "nbconvert_exporter": "python",
   "pygments_lexer": "ipython3",
   "version": "3.7.1"
  }
 },
 "nbformat": 4,
 "nbformat_minor": 2
}
