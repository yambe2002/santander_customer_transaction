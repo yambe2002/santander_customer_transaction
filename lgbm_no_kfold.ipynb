{
 "cells": [
  {
   "cell_type": "code",
   "execution_count": 13,
   "metadata": {},
   "outputs": [],
   "source": [
    "import time\n",
    "import numpy as np\n",
    "import pandas as pd\n",
    "import lightgbm as lgb\n",
    "from sklearn.model_selection import KFold,StratifiedKFold\n",
    "from sklearn.model_selection import GridSearchCV\n",
    "from sklearn.discriminant_analysis import LinearDiscriminantAnalysis as LDA\n",
    "from sklearn.model_selection import train_test_split"
   ]
  },
  {
   "cell_type": "code",
   "execution_count": 14,
   "metadata": {},
   "outputs": [],
   "source": [
    "more_features = False\n",
    "\n",
    "train_df = pd.read_csv('input/train' + ('_more_features' if more_features else '') + '.csv')\n",
    "test_df = pd.read_csv('input/test'  + ('_more_features' if more_features else '') + '.csv')\n",
    "    \n",
    "X_test = test_df.drop('ID_code',axis=1)\n",
    "X = train_df.drop(['ID_code','target'],axis=1)\n",
    "y = train_df['target']"
   ]
  },
  {
   "cell_type": "code",
   "execution_count": 15,
   "metadata": {},
   "outputs": [],
   "source": [
    "params = {\n",
    "    'metric': 'auc',\n",
    "    'boosting_type': 'gbdt',\n",
    "    'objective': 'binary',\n",
    "    'min_data_in_leaf': 2881,\n",
    "    'max_depth': 0,\n",
    "    'num_leaves': 3,\n",
    "    'learning_rate': 0.01,\n",
    "    'bagging_freq': 3,\n",
    "    #'bagging_fraction': trial.suggest_uniform('bagging_fraction', 0.3, 0.9),\n",
    "    'feature_fraction': 0.8453828656355421,\n",
    "    'bagging_seed': 11,\n",
    "    'reg_alpha':  1.1173044727720816,\n",
    "    'reg_lambda': 6.9285776442737514,\n",
    "    'random_state': 42,\n",
    "    'verbosity': -1,\n",
    "    'subsample':0.8421287738494433,\n",
    "    'min_child_weight': 36.93038816860224,\n",
    "    'num_threads': 4,\n",
    "    'max_bin': 483\n",
    "}"
   ]
  },
  {
   "cell_type": "code",
   "execution_count": 16,
   "metadata": {},
   "outputs": [],
   "source": [
    "score = 0.0\n",
    "prediction = np.zeros(len(X_test))"
   ]
  },
  {
   "cell_type": "code",
   "execution_count": 17,
   "metadata": {},
   "outputs": [],
   "source": [
    "X_train, X_valid, y_train, y_valid = train_test_split(X, y, test_size=0.2, random_state=10)"
   ]
  },
  {
   "cell_type": "code",
   "execution_count": 18,
   "metadata": {},
   "outputs": [
    {
     "name": "stdout",
     "output_type": "stream",
     "text": [
      "Training until validation scores don't improve for 800 rounds.\n",
      "[300]\ttraining's auc: 0.767414\tvalid_1's auc: 0.76129\n",
      "[600]\ttraining's auc: 0.803213\tvalid_1's auc: 0.796306\n",
      "[900]\ttraining's auc: 0.823591\tvalid_1's auc: 0.816502\n",
      "[1200]\ttraining's auc: 0.837672\tvalid_1's auc: 0.830386\n",
      "[1500]\ttraining's auc: 0.84824\tvalid_1's auc: 0.840975\n",
      "[1800]\ttraining's auc: 0.856153\tvalid_1's auc: 0.848732\n",
      "[2100]\ttraining's auc: 0.862805\tvalid_1's auc: 0.855181\n",
      "[2400]\ttraining's auc: 0.86778\tvalid_1's auc: 0.86005\n",
      "[2700]\ttraining's auc: 0.872276\tvalid_1's auc: 0.864359\n",
      "[3000]\ttraining's auc: 0.876125\tvalid_1's auc: 0.868141\n",
      "[3300]\ttraining's auc: 0.879587\tvalid_1's auc: 0.871474\n",
      "[3600]\ttraining's auc: 0.882359\tvalid_1's auc: 0.874098\n",
      "[3900]\ttraining's auc: 0.885032\tvalid_1's auc: 0.876536\n",
      "[4200]\ttraining's auc: 0.887409\tvalid_1's auc: 0.878779\n",
      "[4500]\ttraining's auc: 0.889565\tvalid_1's auc: 0.880814\n",
      "[4800]\ttraining's auc: 0.891444\tvalid_1's auc: 0.882562\n",
      "[5100]\ttraining's auc: 0.893231\tvalid_1's auc: 0.884165\n",
      "[5400]\ttraining's auc: 0.894768\tvalid_1's auc: 0.885475\n",
      "[5700]\ttraining's auc: 0.896179\tvalid_1's auc: 0.8867\n",
      "[6000]\ttraining's auc: 0.897549\tvalid_1's auc: 0.887826\n",
      "[6300]\ttraining's auc: 0.898843\tvalid_1's auc: 0.888936\n",
      "[6600]\ttraining's auc: 0.899887\tvalid_1's auc: 0.889776\n",
      "[6900]\ttraining's auc: 0.900983\tvalid_1's auc: 0.890693\n",
      "[7200]\ttraining's auc: 0.901936\tvalid_1's auc: 0.891446\n",
      "[7500]\ttraining's auc: 0.902958\tvalid_1's auc: 0.892156\n",
      "[7800]\ttraining's auc: 0.903818\tvalid_1's auc: 0.892915\n",
      "[8100]\ttraining's auc: 0.904657\tvalid_1's auc: 0.893505\n",
      "[8400]\ttraining's auc: 0.905406\tvalid_1's auc: 0.894076\n",
      "[8700]\ttraining's auc: 0.906183\tvalid_1's auc: 0.894679\n",
      "[9000]\ttraining's auc: 0.906909\tvalid_1's auc: 0.895131\n",
      "[9300]\ttraining's auc: 0.907542\tvalid_1's auc: 0.895509\n",
      "[9600]\ttraining's auc: 0.908168\tvalid_1's auc: 0.89597\n",
      "[9900]\ttraining's auc: 0.908718\tvalid_1's auc: 0.896422\n",
      "[10200]\ttraining's auc: 0.909276\tvalid_1's auc: 0.896826\n",
      "[10500]\ttraining's auc: 0.909785\tvalid_1's auc: 0.897105\n",
      "[10800]\ttraining's auc: 0.91031\tvalid_1's auc: 0.897603\n",
      "[11100]\ttraining's auc: 0.910797\tvalid_1's auc: 0.8979\n",
      "[11400]\ttraining's auc: 0.911253\tvalid_1's auc: 0.898147\n",
      "[11700]\ttraining's auc: 0.911723\tvalid_1's auc: 0.898435\n",
      "[12000]\ttraining's auc: 0.912167\tvalid_1's auc: 0.89863\n",
      "[12300]\ttraining's auc: 0.912534\tvalid_1's auc: 0.898837\n",
      "[12600]\ttraining's auc: 0.9129\tvalid_1's auc: 0.899041\n",
      "[12900]\ttraining's auc: 0.913235\tvalid_1's auc: 0.899227\n",
      "[13200]\ttraining's auc: 0.913612\tvalid_1's auc: 0.899432\n",
      "[13500]\ttraining's auc: 0.913915\tvalid_1's auc: 0.899577\n",
      "[13800]\ttraining's auc: 0.914229\tvalid_1's auc: 0.899695\n",
      "[14100]\ttraining's auc: 0.914518\tvalid_1's auc: 0.899822\n",
      "[14400]\ttraining's auc: 0.9148\tvalid_1's auc: 0.899956\n",
      "[14700]\ttraining's auc: 0.915082\tvalid_1's auc: 0.900054\n",
      "[15000]\ttraining's auc: 0.915379\tvalid_1's auc: 0.900131\n",
      "[15300]\ttraining's auc: 0.915648\tvalid_1's auc: 0.900235\n",
      "[15600]\ttraining's auc: 0.915897\tvalid_1's auc: 0.900299\n",
      "[15900]\ttraining's auc: 0.916159\tvalid_1's auc: 0.900417\n",
      "[16200]\ttraining's auc: 0.916404\tvalid_1's auc: 0.900477\n",
      "[16500]\ttraining's auc: 0.91667\tvalid_1's auc: 0.900554\n",
      "[16800]\ttraining's auc: 0.916891\tvalid_1's auc: 0.900623\n",
      "[17100]\ttraining's auc: 0.917137\tvalid_1's auc: 0.900706\n",
      "[17400]\ttraining's auc: 0.917359\tvalid_1's auc: 0.900751\n",
      "[17700]\ttraining's auc: 0.917567\tvalid_1's auc: 0.900813\n",
      "[18000]\ttraining's auc: 0.917781\tvalid_1's auc: 0.900839\n",
      "[18300]\ttraining's auc: 0.917993\tvalid_1's auc: 0.900897\n",
      "[18600]\ttraining's auc: 0.918184\tvalid_1's auc: 0.90095\n",
      "[18900]\ttraining's auc: 0.918389\tvalid_1's auc: 0.900972\n",
      "[19200]\ttraining's auc: 0.918595\tvalid_1's auc: 0.901\n",
      "[19500]\ttraining's auc: 0.918803\tvalid_1's auc: 0.901003\n",
      "[19800]\ttraining's auc: 0.919004\tvalid_1's auc: 0.901038\n",
      "[20100]\ttraining's auc: 0.919207\tvalid_1's auc: 0.901094\n",
      "[20400]\ttraining's auc: 0.919396\tvalid_1's auc: 0.90113\n",
      "[20700]\ttraining's auc: 0.919604\tvalid_1's auc: 0.901148\n",
      "[21000]\ttraining's auc: 0.91976\tvalid_1's auc: 0.901197\n",
      "[21300]\ttraining's auc: 0.919928\tvalid_1's auc: 0.901222\n",
      "[21600]\ttraining's auc: 0.920109\tvalid_1's auc: 0.901255\n",
      "[21900]\ttraining's auc: 0.920293\tvalid_1's auc: 0.901252\n",
      "[22200]\ttraining's auc: 0.92048\tvalid_1's auc: 0.901253\n",
      "[22500]\ttraining's auc: 0.92066\tvalid_1's auc: 0.901271\n",
      "[22800]\ttraining's auc: 0.920827\tvalid_1's auc: 0.90126\n",
      "Early stopping, best iteration is:\n",
      "[22059]\ttraining's auc: 0.920383\tvalid_1's auc: 0.901284\n",
      "0.901284141805979\n"
     ]
    }
   ],
   "source": [
    "train_data = lgb.Dataset(X_train, label=y_train)\n",
    "valid_data = lgb.Dataset(X_valid, label=y_valid)\n",
    "\n",
    "model = lgb.train(params,train_data,num_boost_round=2000000,\n",
    "                  valid_sets = [train_data, valid_data],verbose_eval=300,early_stopping_rounds = 800)\n",
    "\n",
    "prediction += model.predict(X_test, num_iteration=model.best_iteration)\n",
    "score += model.best_score['valid_1']['auc']\n",
    "\n",
    "print(score)"
   ]
  },
  {
   "cell_type": "code",
   "execution_count": 19,
   "metadata": {},
   "outputs": [],
   "source": [
    "sub = pd.DataFrame({\"ID_code\": test_df.ID_code.values})\n",
    "sub[\"target\"] = prediction\n",
    "sub.to_csv(\"submission.csv\", index=False)"
   ]
  },
  {
   "cell_type": "code",
   "execution_count": null,
   "metadata": {},
   "outputs": [],
   "source": []
  }
 ],
 "metadata": {
  "kernelspec": {
   "display_name": "Python 3",
   "language": "python",
   "name": "python3"
  },
  "language_info": {
   "codemirror_mode": {
    "name": "ipython",
    "version": 3
   },
   "file_extension": ".py",
   "mimetype": "text/x-python",
   "name": "python",
   "nbconvert_exporter": "python",
   "pygments_lexer": "ipython3",
   "version": "3.7.1"
  }
 },
 "nbformat": 4,
 "nbformat_minor": 2
}
