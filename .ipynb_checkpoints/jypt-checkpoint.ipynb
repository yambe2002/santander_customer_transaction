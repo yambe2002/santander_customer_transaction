{
 "cells": [
  {
   "cell_type": "code",
   "execution_count": 47,
   "metadata": {},
   "outputs": [],
   "source": [
    "import pandas as pd\n",
    "import numpy as np\n",
    "from sklearn.model_selection import train_test_split\n",
    "from sklearn.model_selection import cross_val_score\n",
    "from sklearn.linear_model import SGDClassifier\n",
    "from sklearn.svm import SVC\n",
    "from sklearn.metrics import roc_auc_score\n",
    "from sklearn.decomposition import PCA\n",
    "from sklearn.pipeline import Pipeline\n",
    "from sklearn.model_selection import GridSearchCV\n",
    "from sklearn import preprocessing"
   ]
  },
  {
   "cell_type": "code",
   "execution_count": 48,
   "metadata": {},
   "outputs": [],
   "source": [
    "data = pd.read_csv('input/train.csv')\n",
    "# data = pd.read_csv('input/train_min.csv')  # small data\n",
    "\n",
    "X, y = data.iloc[:,2:].values, data.iloc[:,1].values"
   ]
  },
  {
   "cell_type": "code",
   "execution_count": 57,
   "metadata": {},
   "outputs": [
    {
     "name": "stdout",
     "output_type": "stream",
     "text": [
      "{'tol': 1e-15}\n",
      "0.8514939360542757\n"
     ]
    }
   ],
   "source": [
    "# cv: 0.8333937317304528\n",
    "# logistic = SGDClassifier(loss='log', max_iter=50000, tol=1e-3, alpha=0.1)\n",
    "\n",
    "#cv: 0.8492245702937613\n",
    "# logistic = SGDClassifier(loss='log', max_iter=50000, tol=1e-3, alpha=0.01)\n",
    "\n",
    "#cv: 0.8456784557444358\n",
    "# logistic = SGDClassifier(loss='modified_huber', max_iter=5000, tol=1e-3, alpha=0.01)\n",
    "\n",
    "#cv: 0.8494248938378591\n",
    "# logistic = SGDClassifier(loss='log', max_iter=5000, tol=1e-3, alpha=0.01)\n",
    "\n",
    "#cv: 0.8515980352095942\n",
    "logistic = SGDClassifier(loss='log', max_iter=5000, tol=1e-7, alpha=0.01)\n",
    "\n",
    "\n",
    "# temp\n",
    "# scaler = preprocessing.StandardScaler().fit(X)\n",
    "\n",
    "\n",
    "# try grid-search\n",
    "params = { 'tol': [ 1e-8, 1e-9, 1e-10, 1e-15 ] }\n",
    "cls = GridSearchCV(estimator=logistic, param_grid=params, cv=5, scoring='roc_auc')\n",
    "cls.fit(X, y)\n",
    "\n",
    "print(cls.best_params_)\n",
    "print(cls.best_score_)"
   ]
  },
  {
   "cell_type": "code",
   "execution_count": null,
   "metadata": {},
   "outputs": [],
   "source": [
    "# create final output\n",
    "test = pd.read_csv('input/test.csv')\n",
    "test_ids, test_x = test.iloc[:,0], test.iloc[:,1:]\n",
    "\n",
    "test_y = cls.predict_proba(test_x)"
   ]
  },
  {
   "cell_type": "code",
   "execution_count": null,
   "metadata": {},
   "outputs": [],
   "source": [
    "# output the result\n",
    "sub_ids = pd.DataFrame(test_ids)\n",
    "sub_y = pd.DataFrame(pd.DataFrame(test_y).iloc[:,1])\n",
    "\n",
    "sub = pd.DataFrame(np.hstack((sub_ids, sub_y)))\n",
    "sub.to_csv('output.csv', header=['ID_code', 'target'], index=False)\n",
    "\n",
    "output_check = pd.read_csv('output.csv')\n",
    "output_check.head()"
   ]
  }
 ],
 "metadata": {
  "kernelspec": {
   "display_name": "Python 3",
   "language": "python",
   "name": "python3"
  },
  "language_info": {
   "codemirror_mode": {
    "name": "ipython",
    "version": 3
   },
   "file_extension": ".py",
   "mimetype": "text/x-python",
   "name": "python",
   "nbconvert_exporter": "python",
   "pygments_lexer": "ipython3",
   "version": "3.7.1"
  }
 },
 "nbformat": 4,
 "nbformat_minor": 2
}
