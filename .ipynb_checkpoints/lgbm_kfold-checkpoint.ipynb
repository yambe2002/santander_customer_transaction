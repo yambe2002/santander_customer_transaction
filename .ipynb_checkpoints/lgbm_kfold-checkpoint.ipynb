{
 "cells": [
  {
   "cell_type": "code",
   "execution_count": 13,
   "metadata": {},
   "outputs": [],
   "source": [
    "import time\n",
    "import numpy as np\n",
    "import pandas as pd\n",
    "import lightgbm as lgb\n",
    "from sklearn.model_selection import KFold,StratifiedKFold\n",
    "from sklearn.model_selection import GridSearchCV"
   ]
  },
  {
   "cell_type": "code",
   "execution_count": 14,
   "metadata": {},
   "outputs": [],
   "source": [
    "train_df = pd.read_csv('input/train.csv')\n",
    "# train_df = pd.read_csv('input/train_min.csv')\n",
    "test_df = pd.read_csv('input/test.csv')\n",
    "\n",
    "X_test = test_df.drop('ID_code',axis=1)\n",
    "X = train_df.drop(['ID_code','target'],axis=1)\n",
    "y = train_df['target']"
   ]
  },
  {
   "cell_type": "code",
   "execution_count": 15,
   "metadata": {},
   "outputs": [],
   "source": [
    "n_splits = 10\n",
    "folds = StratifiedKFold(n_splits=n_splits, shuffle=True, random_state=42)"
   ]
  },
  {
   "cell_type": "code",
   "execution_count": 16,
   "metadata": {},
   "outputs": [
    {
     "data": {
      "text/plain": [
       "\"\\n# 1st round looks good: cv 0.900043\\n# lb: 0.899 with n_splits=10\\n# try larger max_bin?\\nparams = {\\n         'num_leaves': 8,\\n         'min_data_in_leaf': 1000,\\n         'objective': 'binary',\\n         'max_depth': -1,\\n         'learning_rate': 0.0123,\\n         'boosting': 'gbdt',\\n         'bagging_freq': 5,\\n         'bagging_fraction': 0.8,\\n         'feature_fraction': 0.8201,\\n         'bagging_seed': 11,\\n         'reg_alpha': 1.728910519108444,\\n         'reg_lambda': 4.9847051755586085,\\n         'random_state': 42,\\n         'metric': 'auc',\\n         'verbosity': -1,\\n         'subsample': 0.81,\\n         'min_gain_to_split': 0.01077313523861969,\\n         'min_child_weight': 19.428902804238373,\\n         'num_threads': 4,\\n         'max_bin': 511,\\n        }\\n\""
      ]
     },
     "execution_count": 16,
     "metadata": {},
     "output_type": "execute_result"
    }
   ],
   "source": [
    "# cv: 0.89951\n",
    "params = {\n",
    "         'num_leaves': 8,\n",
    "         'min_data_in_leaf': 42,\n",
    "         'objective': 'binary',\n",
    "         'max_depth': 16,\n",
    "         'learning_rate': 0.0123,\n",
    "         'boosting': 'gbdt',\n",
    "         'bagging_freq': 5,\n",
    "         'bagging_fraction': 0.8,\n",
    "         'feature_fraction': 0.8201,\n",
    "         'bagging_seed': 11,\n",
    "         'reg_alpha': 1.728910519108444,\n",
    "         'reg_lambda': 4.9847051755586085,\n",
    "         'random_state': 42,\n",
    "         'metric': 'auc',\n",
    "         'verbosity': -1,\n",
    "         'subsample': 0.81,\n",
    "         'min_gain_to_split': 0.01077313523861969,\n",
    "         'min_child_weight': 19.428902804238373,\n",
    "         'num_threads': 4 \n",
    "        }\n",
    "\n",
    "\n",
    "# cv: 0.90775 (full)\n",
    "# lb: 0.896 with fold_n=10 => overfit?\n",
    "params = {\n",
    "         'objective': 'binary',\n",
    "         'max_depth': 127,\n",
    "         'metric': 'auc',\n",
    "         'boosting':'gbdt',\n",
    "         }\n",
    "\n",
    "'''\n",
    "# 1st round looks good: cv 0.900043\n",
    "# lb: 0.899 with n_splits=10\n",
    "# try larger max_bin?\n",
    "params = {\n",
    "         'num_leaves': 8,\n",
    "         'min_data_in_leaf': 1000,\n",
    "         'objective': 'binary',\n",
    "         'max_depth': -1,\n",
    "         'learning_rate': 0.0123,\n",
    "         'boosting': 'gbdt',\n",
    "         'bagging_freq': 5,\n",
    "         'bagging_fraction': 0.8,\n",
    "         'feature_fraction': 0.8201,\n",
    "         'bagging_seed': 11,\n",
    "         'reg_alpha': 1.728910519108444,\n",
    "         'reg_lambda': 4.9847051755586085,\n",
    "         'random_state': 42,\n",
    "         'metric': 'auc',\n",
    "         'verbosity': -1,\n",
    "         'subsample': 0.81,\n",
    "         'min_gain_to_split': 0.01077313523861969,\n",
    "         'min_child_weight': 19.428902804238373,\n",
    "         'num_threads': 4,\n",
    "         'max_bin': 511,\n",
    "        }\n",
    "'''"
   ]
  },
  {
   "cell_type": "code",
   "execution_count": 17,
   "metadata": {},
   "outputs": [
    {
     "name": "stdout",
     "output_type": "stream",
     "text": [
      "Fold 0 started at Sat Mar  2 07:33:51 2019\n",
      "Training until validation scores don't improve for 200 rounds.\n",
      "[300]\ttraining's auc: 0.96627\tvalid_1's auc: 0.887899\n",
      "Early stopping, best iteration is:\n",
      "[366]\ttraining's auc: 0.974201\tvalid_1's auc: 0.889333\n",
      "Fold 1 started at Sat Mar  2 07:35:33 2019\n",
      "Training until validation scores don't improve for 200 rounds.\n",
      "[300]\ttraining's auc: 0.96629\tvalid_1's auc: 0.886376\n",
      "[600]\ttraining's auc: 0.991282\tvalid_1's auc: 0.887753\n",
      "Early stopping, best iteration is:\n",
      "[494]\ttraining's auc: 0.98571\tvalid_1's auc: 0.888385\n",
      "Fold 2 started at Sat Mar  2 07:37:41 2019\n",
      "Training until validation scores don't improve for 200 rounds.\n",
      "[300]\ttraining's auc: 0.966766\tvalid_1's auc: 0.886374\n",
      "[600]\ttraining's auc: 0.991187\tvalid_1's auc: 0.888281\n",
      "Early stopping, best iteration is:\n",
      "[483]\ttraining's auc: 0.984847\tvalid_1's auc: 0.888717\n",
      "Fold 3 started at Sat Mar  2 07:39:46 2019\n",
      "Training until validation scores don't improve for 200 rounds.\n",
      "[300]\ttraining's auc: 0.966864\tvalid_1's auc: 0.890004\n",
      "Early stopping, best iteration is:\n",
      "[393]\ttraining's auc: 0.977361\tvalid_1's auc: 0.89065\n",
      "Fold 4 started at Sat Mar  2 07:41:36 2019\n",
      "Training until validation scores don't improve for 200 rounds.\n",
      "[300]\ttraining's auc: 0.966035\tvalid_1's auc: 0.895732\n",
      "[600]\ttraining's auc: 0.99093\tvalid_1's auc: 0.897859\n",
      "Early stopping, best iteration is:\n",
      "[570]\ttraining's auc: 0.98951\tvalid_1's auc: 0.897936\n",
      "Fold 5 started at Sat Mar  2 07:43:52 2019\n",
      "Training until validation scores don't improve for 200 rounds.\n",
      "[300]\ttraining's auc: 0.966599\tvalid_1's auc: 0.891352\n",
      "[600]\ttraining's auc: 0.991242\tvalid_1's auc: 0.893538\n",
      "Early stopping, best iteration is:\n",
      "[654]\ttraining's auc: 0.993417\tvalid_1's auc: 0.893818\n",
      "Fold 6 started at Sat Mar  2 07:46:19 2019\n",
      "Training until validation scores don't improve for 200 rounds.\n",
      "[300]\ttraining's auc: 0.966797\tvalid_1's auc: 0.894413\n",
      "[600]\ttraining's auc: 0.991198\tvalid_1's auc: 0.895915\n",
      "Early stopping, best iteration is:\n",
      "[605]\ttraining's auc: 0.991438\tvalid_1's auc: 0.896054\n",
      "Fold 7 started at Sat Mar  2 07:48:42 2019\n",
      "Training until validation scores don't improve for 200 rounds.\n",
      "[300]\ttraining's auc: 0.967303\tvalid_1's auc: 0.880957\n",
      "[600]\ttraining's auc: 0.991265\tvalid_1's auc: 0.882003\n",
      "[900]\ttraining's auc: 0.998135\tvalid_1's auc: 0.881944\n",
      "Early stopping, best iteration is:\n",
      "[712]\ttraining's auc: 0.994905\tvalid_1's auc: 0.882248\n",
      "Fold 8 started at Sat Mar  2 07:51:21 2019\n",
      "Training until validation scores don't improve for 200 rounds.\n",
      "[300]\ttraining's auc: 0.966511\tvalid_1's auc: 0.881464\n",
      "[600]\ttraining's auc: 0.991179\tvalid_1's auc: 0.883531\n",
      "Early stopping, best iteration is:\n",
      "[418]\ttraining's auc: 0.979873\tvalid_1's auc: 0.884455\n",
      "Fold 9 started at Sat Mar  2 07:53:22 2019\n",
      "Training until validation scores don't improve for 200 rounds.\n",
      "[300]\ttraining's auc: 0.967039\tvalid_1's auc: 0.88346\n",
      "[600]\ttraining's auc: 0.991308\tvalid_1's auc: 0.884462\n",
      "Early stopping, best iteration is:\n",
      "[407]\ttraining's auc: 0.97894\tvalid_1's auc: 0.885009\n"
     ]
    }
   ],
   "source": [
    "prediction = np.zeros(len(X_test))\n",
    "for fold_n, (train_index, valid_index) in enumerate(folds.split(X,y)):\n",
    "    print('Fold', fold_n, 'started at', time.ctime())\n",
    "    X_train, X_valid = X.iloc[train_index], X.iloc[valid_index]\n",
    "    y_train, y_valid = y.iloc[train_index], y.iloc[valid_index]\n",
    "    \n",
    "    train_data = lgb.Dataset(X_train, label=y_train)\n",
    "    valid_data = lgb.Dataset(X_valid, label=y_valid)\n",
    "        \n",
    "    model = lgb.train(params,train_data,num_boost_round=200000,\n",
    "                    valid_sets = [train_data, valid_data],verbose_eval=300,early_stopping_rounds = 200)\n",
    "    \n",
    "    prediction += model.predict(X_test, num_iteration=model.best_iteration)/n_splits"
   ]
  },
  {
   "cell_type": "code",
   "execution_count": 18,
   "metadata": {},
   "outputs": [],
   "source": [
    "sub = pd.DataFrame({\"ID_code\": test_df.ID_code.values})\n",
    "sub[\"target\"] = prediction\n",
    "sub.to_csv(\"submission.csv\", index=False)"
   ]
  },
  {
   "cell_type": "code",
   "execution_count": null,
   "metadata": {},
   "outputs": [],
   "source": []
  }
 ],
 "metadata": {
  "kernelspec": {
   "display_name": "Python 3",
   "language": "python",
   "name": "python3"
  },
  "language_info": {
   "codemirror_mode": {
    "name": "ipython",
    "version": 3
   },
   "file_extension": ".py",
   "mimetype": "text/x-python",
   "name": "python",
   "nbconvert_exporter": "python",
   "pygments_lexer": "ipython3",
   "version": "3.7.1"
  }
 },
 "nbformat": 4,
 "nbformat_minor": 2
}
