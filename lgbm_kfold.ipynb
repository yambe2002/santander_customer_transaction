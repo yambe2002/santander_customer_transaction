{
 "cells": [
  {
   "cell_type": "code",
   "execution_count": 92,
   "metadata": {},
   "outputs": [],
   "source": [
    "import time\n",
    "import numpy as np\n",
    "import pandas as pd\n",
    "import lightgbm as lgb\n",
    "from sklearn.model_selection import KFold,StratifiedKFold\n",
    "from sklearn.model_selection import GridSearchCV\n",
    "from sklearn.discriminant_analysis import LinearDiscriminantAnalysis as LDA\n",
    "from sklearn.model_selection import train_test_split\n",
    "from sklearn.metrics import roc_auc_score"
   ]
  },
  {
   "cell_type": "code",
   "execution_count": 93,
   "metadata": {},
   "outputs": [],
   "source": [
    "more_features = True\n",
    "use_staking = False\n",
    "use_kernal_params = False\n",
    "do_augment = False\n",
    "fast = True\n",
    "\n",
    "train_df = pd.read_csv('input/train' + ('_more_features' if more_features else '') + '.csv')\n",
    "test_df = pd.read_csv('input/test'  + ('_more_features' if more_features else '') + '.csv')\n",
    "\n",
    "do_lda = False\n",
    "\n",
    "fix_data_skew = False\n",
    "\n",
    "if fix_data_skew:\n",
    "    trues = train_df.loc[train_df['target'] == 1]\n",
    "    falses = train_df.loc[train_df['target'] != 1].sample(frac=1)[:len(trues)]\n",
    "    train_df = pd.concat([trues, falses], ignore_index=True).sample(frac=1)\n",
    "else:\n",
    "    train_df = train_df\n",
    "    \n",
    "X_test = test_df.drop('ID_code',axis=1)\n",
    "X = train_df.drop(['ID_code','target'],axis=1)\n",
    "y = train_df['target']"
   ]
  },
  {
   "cell_type": "code",
   "execution_count": 94,
   "metadata": {},
   "outputs": [],
   "source": [
    "if do_lda:    \n",
    "    lda = LDA(solver='svd', n_components=5, store_covariance=True)\n",
    "    X_lda = pd.DataFrame(lda.fit_transform(X, y))\n",
    "    X_test_lda = pd.DataFrame(lda.transform(X_test))\n",
    "    X[\"lda\"] = X_lda\n",
    "    X_test[\"lda\"] = X_test_lda"
   ]
  },
  {
   "cell_type": "code",
   "execution_count": 95,
   "metadata": {},
   "outputs": [],
   "source": [
    "_, X_bottomhalf, _, y_bottomhalf = train_test_split(X, y, test_size=0.8, random_state=10)"
   ]
  },
  {
   "cell_type": "code",
   "execution_count": 96,
   "metadata": {},
   "outputs": [],
   "source": [
    "if use_staking:\n",
    "    X = X_bottomhalf\n",
    "    y = y_bottomhalf"
   ]
  },
  {
   "cell_type": "code",
   "execution_count": null,
   "metadata": {},
   "outputs": [],
   "source": [
    "n_splits = 5\n",
    "folds = StratifiedKFold(n_splits=n_splits, shuffle=True, random_state=42)"
   ]
  },
  {
   "cell_type": "code",
   "execution_count": null,
   "metadata": {},
   "outputs": [],
   "source": [
    "params = {\n",
    "    'metric': 'auc',\n",
    "    'boosting_type': 'gbdt',\n",
    "    'objective': 'binary',\n",
    "    'min_data_in_leaf': 2881,\n",
    "    'max_depth': 0,\n",
    "    'num_leaves': 3,\n",
    "    'learning_rate': 0.01,\n",
    "    'bagging_freq': 3,\n",
    "    #'bagging_fraction': trial.suggest_uniform('bagging_fraction', 0.3, 0.9),\n",
    "    'feature_fraction': 0.8990901412442585,\n",
    "    'bagging_seed': 11,\n",
    "    'reg_alpha':  1.1173044727720816,\n",
    "    'reg_lambda': 6.9285776442737514,\n",
    "    'random_state': 42,\n",
    "    'verbosity': -1,\n",
    "    'subsample': 0.8054415526396443,\n",
    "    'min_child_weight': 38.138072621096654,\n",
    "    'num_threads': 4,\n",
    "    'max_bin': 483\n",
    "}\n",
    "\n",
    "if use_kernal_params:\n",
    "    # https://www.kaggle.com/jiweiliu/lgb-2-leaves-augment (lb: 0.901)\n",
    "    params = {\n",
    "        \"objective\" : \"binary\",\n",
    "        \"metric\" : \"auc\",\n",
    "        \"boosting\": 'gbdt',\n",
    "        \"max_depth\" : -1,\n",
    "        \"num_leaves\" : 13,\n",
    "        \"learning_rate\" : 0.01,\n",
    "        \"bagging_freq\": 5,\n",
    "        \"bagging_fraction\" : 0.4,\n",
    "        \"feature_fraction\" : 0.05,\n",
    "        \"min_data_in_leaf\": 80,\n",
    "        \"min_sum_heassian_in_leaf\": 10,\n",
    "        \"tree_learner\": \"serial\",\n",
    "        \"boost_from_average\": \"false\",\n",
    "        #\"lambda_l1\" : 5,\n",
    "        #\"lambda_l2\" : 5,\n",
    "        \"bagging_seed\" : 13,\n",
    "        \"verbosity\" : 1,\n",
    "        \"seed\": 42\n",
    "    }"
   ]
  },
  {
   "cell_type": "code",
   "execution_count": null,
   "metadata": {},
   "outputs": [],
   "source": [
    "def augment(x,y,t=2):\n",
    "    xs,xn = [],[]\n",
    "    for i in range(t):\n",
    "        mask = y>0\n",
    "        x1 = x[mask].copy()\n",
    "        ids = np.arange(x1.shape[0])\n",
    "        for c in range(x1.shape[1]):\n",
    "            np.random.shuffle(ids)\n",
    "            x1[:,c] = x1[ids][:,c]\n",
    "        xs.append(x1)\n",
    "\n",
    "    for i in range(t//2):\n",
    "        mask = y==0\n",
    "        x1 = x[mask].copy()\n",
    "        ids = np.arange(x1.shape[0])\n",
    "        for c in range(x1.shape[1]):\n",
    "            np.random.shuffle(ids)\n",
    "            x1[:,c] = x1[ids][:,c]\n",
    "        xn.append(x1)\n",
    "\n",
    "    xs = np.vstack(xs)\n",
    "    xn = np.vstack(xn)\n",
    "    ys = np.ones(xs.shape[0])\n",
    "    yn = np.zeros(xn.shape[0])\n",
    "    x = np.vstack([x,xs,xn])\n",
    "    y = np.concatenate([y,ys,yn])\n",
    "    return x,y"
   ]
  },
  {
   "cell_type": "code",
   "execution_count": null,
   "metadata": {},
   "outputs": [
    {
     "name": "stderr",
     "output_type": "stream",
     "text": [
      "C:\\Users\\yuzos\\Anaconda3\\lib\\site-packages\\ipykernel_launcher.py:2: SettingWithCopyWarning: \n",
      "A value is trying to be set on a copy of a slice from a DataFrame.\n",
      "Try using .loc[row_indexer,col_indexer] = value instead\n",
      "\n",
      "See the caveats in the documentation: http://pandas.pydata.org/pandas-docs/stable/indexing.html#indexing-view-versus-copy\n",
      "  \n"
     ]
    }
   ],
   "source": [
    "oof = train_df[['ID_code', 'target']]\n",
    "oof['predict'] = 0"
   ]
  },
  {
   "cell_type": "code",
   "execution_count": null,
   "metadata": {},
   "outputs": [],
   "source": [
    "predictions = test_df[['ID_code']]\n",
    "val_aucs = []"
   ]
  },
  {
   "cell_type": "code",
   "execution_count": null,
   "metadata": {},
   "outputs": [
    {
     "name": "stdout",
     "output_type": "stream",
     "text": [
      "Fold 0 started at Wed Mar 20 17:12:42 2019\n",
      "Training until validation scores don't improve for 800 rounds.\n",
      "[300]\ttraining's auc: 0.764666\tvalid_1's auc: 0.756397\n",
      "[600]\ttraining's auc: 0.803243\tvalid_1's auc: 0.796463\n",
      "[900]\ttraining's auc: 0.824374\tvalid_1's auc: 0.817086\n",
      "[1200]\ttraining's auc: 0.838272\tvalid_1's auc: 0.830219\n",
      "[1500]\ttraining's auc: 0.848728\tvalid_1's auc: 0.83991\n",
      "[1800]\ttraining's auc: 0.85703\tvalid_1's auc: 0.847752\n",
      "[2100]\ttraining's auc: 0.863006\tvalid_1's auc: 0.853462\n",
      "[2400]\ttraining's auc: 0.868626\tvalid_1's auc: 0.858622\n",
      "[2700]\ttraining's auc: 0.87324\tvalid_1's auc: 0.862825\n",
      "[3000]\ttraining's auc: 0.877158\tvalid_1's auc: 0.86625\n",
      "[3300]\ttraining's auc: 0.880551\tvalid_1's auc: 0.869255\n",
      "[3600]\ttraining's auc: 0.883544\tvalid_1's auc: 0.87207\n",
      "[3900]\ttraining's auc: 0.886399\tvalid_1's auc: 0.874392\n",
      "[4200]\ttraining's auc: 0.888776\tvalid_1's auc: 0.876419\n",
      "[4500]\ttraining's auc: 0.890881\tvalid_1's auc: 0.878338\n",
      "[4800]\ttraining's auc: 0.892805\tvalid_1's auc: 0.879963\n"
     ]
    }
   ],
   "source": [
    "score = 0.0\n",
    "prediction = np.zeros(len(X_test))\n",
    "for fold_n, (train_index, valid_index) in enumerate(folds.split(X,y)):\n",
    "    print('Fold', fold_n, 'started at', time.ctime())\n",
    "    X_train, X_valid = X.iloc[train_index], X.iloc[valid_index]\n",
    "    y_train, y_valid = y.iloc[train_index], y.iloc[valid_index]\n",
    "    \n",
    "    N = 5\n",
    "    \n",
    "    if not do_augment:\n",
    "        N = 1\n",
    "    \n",
    "    p_valid,yp = 0,0\n",
    "    for i in range(N):\n",
    "        if do_augment:\n",
    "            X_t, y_t = augment(X_train.values, y_train.values)\n",
    "            X_t = pd.DataFrame(X_t)\n",
    "            X_t = X_t.add_prefix('var_')\n",
    "\n",
    "            trn_data = lgb.Dataset(X_t, label=y_t)\n",
    "            val_data = lgb.Dataset(X_valid, label=y_valid)\n",
    "        else:\n",
    "            trn_data = lgb.Dataset(X_train, label=y_train)\n",
    "            val_data = lgb.Dataset(X_valid, label=y_valid)\n",
    "        \n",
    "        evals_result = {}\n",
    "        \n",
    "        early_stopping_rounds = 800 if fast else 3000\n",
    "        \n",
    "        lgb_clf = lgb.train(params,\n",
    "                        trn_data,\n",
    "                        num_boost_round=2000000,\n",
    "                        valid_sets = [trn_data, val_data],\n",
    "                        early_stopping_rounds=early_stopping_rounds,\n",
    "                        verbose_eval = 300,\n",
    "                        evals_result=evals_result\n",
    "                       )\n",
    "        p_valid += lgb_clf.predict(X_valid)\n",
    "        yp += lgb_clf.predict(X_test)\n",
    "    \n",
    "    oof['predict'][valid_index] = p_valid/N\n",
    "    val_score = roc_auc_score(y_valid, p_valid)\n",
    "    val_aucs.append(val_score)\n",
    "    \n",
    "    predictions['fold{}'.format(fold_n+1)] = yp/N"
   ]
  },
  {
   "cell_type": "code",
   "execution_count": null,
   "metadata": {},
   "outputs": [],
   "source": [
    "mean_auc = np.mean(val_aucs)\n",
    "std_auc = np.std(val_aucs)\n",
    "all_auc = roc_auc_score(oof['target'], oof['predict'])\n",
    "print(\"Mean auc: %.9f, std: %.9f. All auc: %.9f.\" % (mean_auc, std_auc, all_auc))"
   ]
  },
  {
   "cell_type": "code",
   "execution_count": null,
   "metadata": {},
   "outputs": [],
   "source": [
    "# submission\n",
    "predictions['target'] = np.mean(predictions[[col for col in predictions.columns if col not in ['ID_code', 'target']]].values, axis=1)\n",
    "predictions.to_csv('lgb_all_predictions.csv', index=None)\n",
    "sub_df = pd.DataFrame({\"ID_code\":test_df[\"ID_code\"].values})\n",
    "sub_df[\"target\"] = predictions['target']\n",
    "sub_df.to_csv(\"lgb_submission.csv\", index=False)\n",
    "oof.to_csv('lgb_oof.csv', index=False)"
   ]
  },
  {
   "cell_type": "code",
   "execution_count": null,
   "metadata": {},
   "outputs": [],
   "source": []
  }
 ],
 "metadata": {
  "kernelspec": {
   "display_name": "Python 3",
   "language": "python",
   "name": "python3"
  },
  "language_info": {
   "codemirror_mode": {
    "name": "ipython",
    "version": 3
   },
   "file_extension": ".py",
   "mimetype": "text/x-python",
   "name": "python",
   "nbconvert_exporter": "python",
   "pygments_lexer": "ipython3",
   "version": "3.7.1"
  }
 },
 "nbformat": 4,
 "nbformat_minor": 2
}
