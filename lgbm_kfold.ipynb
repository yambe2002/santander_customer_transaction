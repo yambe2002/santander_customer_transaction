{
 "cells": [
  {
   "cell_type": "code",
   "execution_count": 8,
   "metadata": {},
   "outputs": [],
   "source": [
    "import time\n",
    "import numpy as np\n",
    "import pandas as pd\n",
    "import lightgbm as lgb\n",
    "from sklearn.model_selection import KFold,StratifiedKFold\n",
    "from sklearn.model_selection import GridSearchCV\n",
    "from sklearn.discriminant_analysis import LinearDiscriminantAnalysis as LDA"
   ]
  },
  {
   "cell_type": "code",
   "execution_count": 9,
   "metadata": {},
   "outputs": [],
   "source": [
    "use_stack = True\n",
    "\n",
    "train_df = pd.read_csv('input/train' + ('_stack' if use_stack else '') + '.csv')\n",
    "#train_df = pd.read_csv('input/train_min.csv')\n",
    "test_df = pd.read_csv('input/test'  + ('_stack' if use_stack else '') + '.csv')\n",
    "\n",
    "do_lda = False\n",
    "\n",
    "fix_data_skew = False\n",
    "\n",
    "if fix_data_skew:\n",
    "    trues = train_df.loc[train_df['target'] == 1]\n",
    "    falses = train_df.loc[train_df['target'] != 1].sample(frac=1)[:len(trues)]\n",
    "    train_df = pd.concat([trues, falses], ignore_index=True).sample(frac=1)\n",
    "else:\n",
    "    train_df = train_df\n",
    "    \n",
    "train_df.head()\n",
    "\n",
    "X_test = test_df.drop('ID_code',axis=1)\n",
    "X = train_df.drop(['ID_code','target'],axis=1)\n",
    "y = train_df['target']"
   ]
  },
  {
   "cell_type": "code",
   "execution_count": 10,
   "metadata": {},
   "outputs": [],
   "source": [
    "if do_lda:    \n",
    "    lda = LDA(solver='svd', n_components=5, store_covariance=True)\n",
    "    X_lda = pd.DataFrame(lda.fit_transform(X, y))\n",
    "    X_test_lda = pd.DataFrame(lda.transform(X_test))\n",
    "    X[\"lda\"] = X_lda\n",
    "    X_test[\"lda\"] = X_test_lda"
   ]
  },
  {
   "cell_type": "code",
   "execution_count": 11,
   "metadata": {},
   "outputs": [],
   "source": [
    "n_splits = 5\n",
    "folds = StratifiedKFold(n_splits=n_splits, shuffle=True, random_state=42)"
   ]
  },
  {
   "cell_type": "code",
   "execution_count": 12,
   "metadata": {},
   "outputs": [],
   "source": [
    "params = {\n",
    "    'metric': 'auc',\n",
    "    'boosting_type': 'gbdt',\n",
    "    'objective': 'binary',\n",
    "    'min_data_in_leaf': 2881,\n",
    "    'max_depth': 0,\n",
    "    'num_leaves': 3,\n",
    "    'learning_rate': 0.01,\n",
    "    'bagging_freq': 3,\n",
    "    #'bagging_fraction': trial.suggest_uniform('bagging_fraction', 0.3, 0.9),\n",
    "    'feature_fraction': 0.8453828656355421,\n",
    "    'bagging_seed': 11,\n",
    "    'reg_alpha':  1.1173044727720816,\n",
    "    'reg_lambda': 6.9285776442737514,\n",
    "    'random_state': 42,\n",
    "    'verbosity': -1,\n",
    "    'subsample':0.8421287738494433,\n",
    "    'min_child_weight': 36.93038816860224,\n",
    "    'num_threads': 4,\n",
    "    'max_bin': 483\n",
    "}"
   ]
  },
  {
   "cell_type": "code",
   "execution_count": 13,
   "metadata": {},
   "outputs": [
    {
     "name": "stdout",
     "output_type": "stream",
     "text": [
      "Fold 0 started at Fri Mar 15 16:39:36 2019\n",
      "Training until validation scores don't improve for 800 rounds.\n",
      "[300]\ttraining's auc: 0.977917\tvalid_1's auc: 0.979151\n",
      "[600]\ttraining's auc: 0.979395\tvalid_1's auc: 0.980661\n",
      "[900]\ttraining's auc: 0.979673\tvalid_1's auc: 0.980861\n",
      "[1200]\ttraining's auc: 0.979833\tvalid_1's auc: 0.980948\n",
      "[1500]\ttraining's auc: 0.979934\tvalid_1's auc: 0.980971\n",
      "[1800]\ttraining's auc: 0.980017\tvalid_1's auc: 0.980996\n",
      "[2100]\ttraining's auc: 0.980094\tvalid_1's auc: 0.980987\n",
      "[2400]\ttraining's auc: 0.980154\tvalid_1's auc: 0.980989\n",
      "Early stopping, best iteration is:\n",
      "[1742]\ttraining's auc: 0.980002\tvalid_1's auc: 0.981003\n",
      "Fold 1 started at Fri Mar 15 16:39:58 2019\n",
      "Training until validation scores don't improve for 800 rounds.\n",
      "[300]\ttraining's auc: 0.978636\tvalid_1's auc: 0.975909\n",
      "[600]\ttraining's auc: 0.980111\tvalid_1's auc: 0.977575\n",
      "[900]\ttraining's auc: 0.980345\tvalid_1's auc: 0.977806\n",
      "[1200]\ttraining's auc: 0.98051\tvalid_1's auc: 0.977874\n",
      "[1500]\ttraining's auc: 0.980615\tvalid_1's auc: 0.977902\n",
      "[1800]\ttraining's auc: 0.980698\tvalid_1's auc: 0.977915\n",
      "[2100]\ttraining's auc: 0.980764\tvalid_1's auc: 0.977917\n",
      "[2400]\ttraining's auc: 0.980814\tvalid_1's auc: 0.977909\n",
      "[2700]\ttraining's auc: 0.980867\tvalid_1's auc: 0.977905\n",
      "Early stopping, best iteration is:\n",
      "[2126]\ttraining's auc: 0.980769\tvalid_1's auc: 0.977924\n",
      "Fold 2 started at Fri Mar 15 16:40:22 2019\n",
      "Training until validation scores don't improve for 800 rounds.\n",
      "[300]\ttraining's auc: 0.977674\tvalid_1's auc: 0.979427\n",
      "[600]\ttraining's auc: 0.979349\tvalid_1's auc: 0.980663\n",
      "[900]\ttraining's auc: 0.979659\tvalid_1's auc: 0.980743\n",
      "[1200]\ttraining's auc: 0.97981\tvalid_1's auc: 0.980748\n",
      "[1500]\ttraining's auc: 0.979921\tvalid_1's auc: 0.980774\n",
      "[1800]\ttraining's auc: 0.980015\tvalid_1's auc: 0.980749\n",
      "[2100]\ttraining's auc: 0.980096\tvalid_1's auc: 0.980754\n",
      "Early stopping, best iteration is:\n",
      "[1524]\ttraining's auc: 0.979928\tvalid_1's auc: 0.980777\n",
      "Fold 3 started at Fri Mar 15 16:40:40 2019\n",
      "Training until validation scores don't improve for 800 rounds.\n",
      "[300]\ttraining's auc: 0.978044\tvalid_1's auc: 0.977795\n",
      "[600]\ttraining's auc: 0.979637\tvalid_1's auc: 0.979384\n",
      "[900]\ttraining's auc: 0.979906\tvalid_1's auc: 0.979678\n",
      "[1200]\ttraining's auc: 0.98003\tvalid_1's auc: 0.979756\n",
      "[1500]\ttraining's auc: 0.980131\tvalid_1's auc: 0.979807\n",
      "[1800]\ttraining's auc: 0.980217\tvalid_1's auc: 0.979831\n",
      "[2100]\ttraining's auc: 0.980286\tvalid_1's auc: 0.979843\n",
      "[2400]\ttraining's auc: 0.980357\tvalid_1's auc: 0.979863\n",
      "[2700]\ttraining's auc: 0.980399\tvalid_1's auc: 0.97985\n",
      "[3000]\ttraining's auc: 0.980456\tvalid_1's auc: 0.979863\n",
      "[3300]\ttraining's auc: 0.980498\tvalid_1's auc: 0.979856\n",
      "[3600]\ttraining's auc: 0.980536\tvalid_1's auc: 0.979851\n",
      "Early stopping, best iteration is:\n",
      "[2958]\ttraining's auc: 0.980448\tvalid_1's auc: 0.979867\n",
      "Fold 4 started at Fri Mar 15 16:41:12 2019\n",
      "Training until validation scores don't improve for 800 rounds.\n",
      "[300]\ttraining's auc: 0.97828\tvalid_1's auc: 0.976913\n",
      "[600]\ttraining's auc: 0.979846\tvalid_1's auc: 0.978572\n",
      "[900]\ttraining's auc: 0.980099\tvalid_1's auc: 0.978887\n",
      "[1200]\ttraining's auc: 0.980227\tvalid_1's auc: 0.979029\n",
      "[1500]\ttraining's auc: 0.980336\tvalid_1's auc: 0.979084\n",
      "[1800]\ttraining's auc: 0.980418\tvalid_1's auc: 0.979149\n",
      "[2100]\ttraining's auc: 0.980483\tvalid_1's auc: 0.979172\n",
      "[2400]\ttraining's auc: 0.980538\tvalid_1's auc: 0.979192\n",
      "[2700]\ttraining's auc: 0.98059\tvalid_1's auc: 0.97918\n",
      "[3000]\ttraining's auc: 0.980641\tvalid_1's auc: 0.979186\n",
      "Early stopping, best iteration is:\n",
      "[2373]\ttraining's auc: 0.980536\tvalid_1's auc: 0.979203\n",
      "0.9797548859104814\n"
     ]
    }
   ],
   "source": [
    "score = 0.0\n",
    "prediction = np.zeros(len(X_test))\n",
    "for fold_n, (train_index, valid_index) in enumerate(folds.split(X,y)):\n",
    "    print('Fold', fold_n, 'started at', time.ctime())\n",
    "    X_train, X_valid = X.iloc[train_index], X.iloc[valid_index]\n",
    "    y_train, y_valid = y.iloc[train_index], y.iloc[valid_index]\n",
    "    \n",
    "    train_data = lgb.Dataset(X_train, label=y_train)\n",
    "    valid_data = lgb.Dataset(X_valid, label=y_valid)\n",
    "        \n",
    "    model = lgb.train(params,train_data,num_boost_round=2000000,\n",
    "                    valid_sets = [train_data, valid_data],verbose_eval=300,early_stopping_rounds = 800)\n",
    "    \n",
    "    prediction += model.predict(X_test, num_iteration=model.best_iteration)/n_splits\n",
    "    score += model.best_score['valid_1']['auc'] / n_splits\n",
    "\n",
    "print(score)"
   ]
  },
  {
   "cell_type": "code",
   "execution_count": 14,
   "metadata": {},
   "outputs": [],
   "source": [
    "sub = pd.DataFrame({\"ID_code\": test_df.ID_code.values})\n",
    "sub[\"target\"] = prediction\n",
    "sub.to_csv(\"submission.csv\", index=False)"
   ]
  },
  {
   "cell_type": "code",
   "execution_count": null,
   "metadata": {},
   "outputs": [],
   "source": []
  }
 ],
 "metadata": {
  "kernelspec": {
   "display_name": "Python 3",
   "language": "python",
   "name": "python3"
  },
  "language_info": {
   "codemirror_mode": {
    "name": "ipython",
    "version": 3
   },
   "file_extension": ".py",
   "mimetype": "text/x-python",
   "name": "python",
   "nbconvert_exporter": "python",
   "pygments_lexer": "ipython3",
   "version": "3.7.1"
  }
 },
 "nbformat": 4,
 "nbformat_minor": 2
}
