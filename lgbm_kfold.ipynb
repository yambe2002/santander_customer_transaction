{
 "cells": [
  {
   "cell_type": "code",
   "execution_count": 3,
   "metadata": {},
   "outputs": [],
   "source": [
    "import time\n",
    "import numpy as np\n",
    "import pandas as pd\n",
    "import lightgbm as lgb\n",
    "from sklearn.model_selection import KFold,StratifiedKFold\n",
    "from sklearn.model_selection import GridSearchCV\n",
    "from sklearn.discriminant_analysis import LinearDiscriminantAnalysis as LDA"
   ]
  },
  {
   "cell_type": "code",
   "execution_count": 4,
   "metadata": {},
   "outputs": [],
   "source": [
    "use_stack = True\n",
    "\n",
    "train_df = pd.read_csv('input/train' + ('_stack' if use_stack else '') + '.csv')\n",
    "#train_df = pd.read_csv('input/train_min.csv')\n",
    "test_df = pd.read_csv('input/test'  + ('_stack' if use_stack else '') + '.csv')\n",
    "\n",
    "do_lda = False\n",
    "\n",
    "fix_data_skew = False\n",
    "\n",
    "if fix_data_skew:\n",
    "    trues = train_df.loc[train_df['target'] == 1]\n",
    "    falses = train_df.loc[train_df['target'] != 1].sample(frac=1)[:len(trues)]\n",
    "    train_df = pd.concat([trues, falses], ignore_index=True).sample(frac=1)\n",
    "else:\n",
    "    train_df = train_df\n",
    "    \n",
    "train_df.head()\n",
    "\n",
    "X_test = test_df.drop('ID_code',axis=1)\n",
    "X = train_df.drop(['ID_code','target'],axis=1)\n",
    "y = train_df['target']"
   ]
  },
  {
   "cell_type": "code",
   "execution_count": 5,
   "metadata": {},
   "outputs": [],
   "source": [
    "if do_lda:    \n",
    "    lda = LDA(solver='svd', n_components=5, store_covariance=True)\n",
    "    X_lda = pd.DataFrame(lda.fit_transform(X, y))\n",
    "    X_test_lda = pd.DataFrame(lda.transform(X_test))\n",
    "    X[\"lda\"] = X_lda\n",
    "    X_test[\"lda\"] = X_test_lda"
   ]
  },
  {
   "cell_type": "code",
   "execution_count": 6,
   "metadata": {},
   "outputs": [],
   "source": [
    "n_splits = 5\n",
    "folds = StratifiedKFold(n_splits=n_splits, shuffle=True, random_state=42)"
   ]
  },
  {
   "cell_type": "code",
   "execution_count": 7,
   "metadata": {},
   "outputs": [],
   "source": [
    "params = {\n",
    "    'metric': 'auc',\n",
    "    'boosting_type': 'gbdt',\n",
    "    'objective': 'binary',\n",
    "    'min_data_in_leaf': 2881,\n",
    "    'max_depth': 0,\n",
    "    'num_leaves': 3,\n",
    "    'learning_rate': 0.01,\n",
    "    'bagging_freq': 3,\n",
    "    #'bagging_fraction': trial.suggest_uniform('bagging_fraction', 0.3, 0.9),\n",
    "    'feature_fraction': 0.8453828656355421,\n",
    "    'bagging_seed': 11,\n",
    "    'reg_alpha':  1.1173044727720816,\n",
    "    'reg_lambda': 6.9285776442737514,\n",
    "    'random_state': 42,\n",
    "    'verbosity': -1,\n",
    "    'subsample':0.8421287738494433,\n",
    "    'min_child_weight': 36.93038816860224,\n",
    "    'num_threads': 4,\n",
    "    'max_bin': 483\n",
    "}"
   ]
  },
  {
   "cell_type": "code",
   "execution_count": 8,
   "metadata": {},
   "outputs": [
    {
     "name": "stdout",
     "output_type": "stream",
     "text": [
      "Fold 0 started at Sat Mar 16 23:01:22 2019\n",
      "Training until validation scores don't improve for 800 rounds.\n",
      "[300]\ttraining's auc: 0.846923\tvalid_1's auc: 0.844032\n",
      "[600]\ttraining's auc: 0.847261\tvalid_1's auc: 0.84429\n",
      "[900]\ttraining's auc: 0.847583\tvalid_1's auc: 0.84437\n",
      "[1200]\ttraining's auc: 0.847801\tvalid_1's auc: 0.844378\n",
      "[1500]\ttraining's auc: 0.847935\tvalid_1's auc: 0.844334\n",
      "[1800]\ttraining's auc: 0.848079\tvalid_1's auc: 0.844164\n",
      "Early stopping, best iteration is:\n",
      "[1015]\ttraining's auc: 0.847679\tvalid_1's auc: 0.844407\n",
      "Fold 1 started at Sat Mar 16 23:01:59 2019\n",
      "Training until validation scores don't improve for 800 rounds.\n",
      "[300]\ttraining's auc: 0.847565\tvalid_1's auc: 0.841435\n",
      "[600]\ttraining's auc: 0.847912\tvalid_1's auc: 0.841544\n",
      "[900]\ttraining's auc: 0.848172\tvalid_1's auc: 0.841729\n",
      "[1200]\ttraining's auc: 0.848413\tvalid_1's auc: 0.841724\n",
      "[1500]\ttraining's auc: 0.84856\tvalid_1's auc: 0.841719\n",
      "[1800]\ttraining's auc: 0.848705\tvalid_1's auc: 0.841736\n",
      "Early stopping, best iteration is:\n",
      "[1046]\ttraining's auc: 0.848295\tvalid_1's auc: 0.841769\n",
      "Fold 2 started at Sat Mar 16 23:02:33 2019\n",
      "Training until validation scores don't improve for 800 rounds.\n",
      "[300]\ttraining's auc: 0.844543\tvalid_1's auc: 0.85331\n",
      "[600]\ttraining's auc: 0.844896\tvalid_1's auc: 0.853516\n",
      "[900]\ttraining's auc: 0.845201\tvalid_1's auc: 0.853605\n",
      "[1200]\ttraining's auc: 0.845436\tvalid_1's auc: 0.853573\n",
      "[1500]\ttraining's auc: 0.845595\tvalid_1's auc: 0.85347\n",
      "Early stopping, best iteration is:\n",
      "[860]\ttraining's auc: 0.845172\tvalid_1's auc: 0.853627\n",
      "Fold 3 started at Sat Mar 16 23:03:04 2019\n",
      "Training until validation scores don't improve for 800 rounds.\n",
      "[300]\ttraining's auc: 0.846333\tvalid_1's auc: 0.846285\n",
      "[600]\ttraining's auc: 0.846646\tvalid_1's auc: 0.846571\n",
      "[900]\ttraining's auc: 0.846885\tvalid_1's auc: 0.846664\n",
      "[1200]\ttraining's auc: 0.847142\tvalid_1's auc: 0.846702\n",
      "[1500]\ttraining's auc: 0.847309\tvalid_1's auc: 0.846683\n",
      "[1800]\ttraining's auc: 0.847416\tvalid_1's auc: 0.846684\n",
      "Early stopping, best iteration is:\n",
      "[1106]\ttraining's auc: 0.847065\tvalid_1's auc: 0.846739\n",
      "Fold 4 started at Sat Mar 16 23:03:42 2019\n",
      "Training until validation scores don't improve for 800 rounds.\n",
      "[300]\ttraining's auc: 0.846716\tvalid_1's auc: 0.844472\n",
      "[600]\ttraining's auc: 0.847033\tvalid_1's auc: 0.844772\n",
      "[900]\ttraining's auc: 0.847345\tvalid_1's auc: 0.845008\n",
      "[1200]\ttraining's auc: 0.847598\tvalid_1's auc: 0.84507\n",
      "[1500]\ttraining's auc: 0.847793\tvalid_1's auc: 0.84508\n",
      "[1800]\ttraining's auc: 0.847908\tvalid_1's auc: 0.845074\n",
      "[2100]\ttraining's auc: 0.848027\tvalid_1's auc: 0.845065\n",
      "Early stopping, best iteration is:\n",
      "[1353]\ttraining's auc: 0.8477\tvalid_1's auc: 0.845101\n",
      "0.846328515105495\n"
     ]
    }
   ],
   "source": [
    "score = 0.0\n",
    "prediction = np.zeros(len(X_test))\n",
    "for fold_n, (train_index, valid_index) in enumerate(folds.split(X,y)):\n",
    "    print('Fold', fold_n, 'started at', time.ctime())\n",
    "    X_train, X_valid = X.iloc[train_index], X.iloc[valid_index]\n",
    "    y_train, y_valid = y.iloc[train_index], y.iloc[valid_index]\n",
    "    \n",
    "    train_data = lgb.Dataset(X_train, label=y_train)\n",
    "    valid_data = lgb.Dataset(X_valid, label=y_valid)\n",
    "        \n",
    "    model = lgb.train(params,train_data,num_boost_round=2000000,\n",
    "                    valid_sets = [train_data, valid_data],verbose_eval=300,early_stopping_rounds = 800)\n",
    "    \n",
    "    prediction += model.predict(X_test, num_iteration=model.best_iteration)/n_splits\n",
    "    score += model.best_score['valid_1']['auc'] / n_splits\n",
    "\n",
    "print(score)"
   ]
  },
  {
   "cell_type": "code",
   "execution_count": 9,
   "metadata": {},
   "outputs": [],
   "source": [
    "sub = pd.DataFrame({\"ID_code\": test_df.ID_code.values})\n",
    "sub[\"target\"] = prediction\n",
    "sub.to_csv(\"submission.csv\", index=False)"
   ]
  },
  {
   "cell_type": "code",
   "execution_count": null,
   "metadata": {},
   "outputs": [],
   "source": []
  }
 ],
 "metadata": {
  "kernelspec": {
   "display_name": "Python 3",
   "language": "python",
   "name": "python3"
  },
  "language_info": {
   "codemirror_mode": {
    "name": "ipython",
    "version": 3
   },
   "file_extension": ".py",
   "mimetype": "text/x-python",
   "name": "python",
   "nbconvert_exporter": "python",
   "pygments_lexer": "ipython3",
   "version": "3.7.1"
  }
 },
 "nbformat": 4,
 "nbformat_minor": 2
}
